{
  "nbformat": 4,
  "nbformat_minor": 0,
  "metadata": {
    "colab": {
      "name": "TSP.ipynb",
      "provenance": [],
      "include_colab_link": true
    },
    "kernelspec": {
      "name": "python3",
      "display_name": "Python 3"
    }
  },
  "cells": [
    {
      "cell_type": "markdown",
      "metadata": {
        "id": "view-in-github",
        "colab_type": "text"
      },
      "source": [
        "<a href=\"https://colab.research.google.com/github/MrCamilo5/cplex-python/blob/master/TSP.ipynb\" target=\"_parent\"><img src=\"https://colab.research.google.com/assets/colab-badge.svg\" alt=\"Open In Colab\"/></a>"
      ]
    },
    {
      "cell_type": "code",
      "metadata": {
        "id": "mgBWSaP5O5-f",
        "colab_type": "code",
        "colab": {}
      },
      "source": [
        "import numpy as np\n",
        "import matplotlib.pyplot as plt\n",
        "from docplex.mp.model import Model\n",
        "import docplex.mp.solution as Solucion"
      ],
      "execution_count": 0,
      "outputs": []
    },
    {
      "cell_type": "code",
      "metadata": {
        "id": "GIt3FUX4PjuT",
        "colab_type": "code",
        "colab": {}
      },
      "source": [
        "n=5 #11\n",
        "ciudades=[i for i in range(n)] # Creamos ciudades de la 0 a la 9  \n",
        "arcos =[(i,j) for i in ciudades for j in ciudades if i!=j]"
      ],
      "execution_count": 0,
      "outputs": []
    },
    {
      "cell_type": "code",
      "metadata": {
        "id": "7Twqt3JMPtjD",
        "colab_type": "code",
        "outputId": "d08a8eaf-dc22-4fe4-a77e-4ea1d69f4d6a",
        "colab": {
          "base_uri": "https://localhost:8080/",
          "height": 105
        }
      },
      "source": [
        "#Ahora crearemos las cordenadas para cada ciudad.\n",
        "random=np.random\n",
        "random.seed(1999)\n",
        "coord_x=random.rand(n)*100\n",
        "coord_y=random.rand(n)*100\n",
        "print(\" Cordenadas de X para todas las ciudades\")\n",
        "print(coord_x)\n",
        "print(\"---------------------------------------------------------------------\")\n",
        "print(\" Cordenadas de y para todas las ciudades\")\n",
        "print(coord_y)"
      ],
      "execution_count": 0,
      "outputs": [
        {
          "output_type": "stream",
          "text": [
            " Cordenadas de X para todas las ciudades\n",
            "[82.45201737 98.46267585 89.31445167 31.96469146 59.32567042]\n",
            "---------------------------------------------------------------------\n",
            " Cordenadas de y para todas las ciudades\n",
            "[19.54923175 86.02167602 86.43005143  7.86178477 71.69120746]\n"
          ],
          "name": "stdout"
        }
      ]
    },
    {
      "cell_type": "code",
      "metadata": {
        "id": "45sVBJVxP19n",
        "colab_type": "code",
        "outputId": "d3d106fa-8299-4309-deae-72e9bab81248",
        "colab": {
          "base_uri": "https://localhost:8080/",
          "height": 350
        }
      },
      "source": [
        "x=coord_x\n",
        "y=coord_y\n",
        "\n",
        "plt.figure(figsize=(12,5))\n",
        "plt.scatter(x,y,color='blue')\n",
        "s=[]\n",
        "for n in range(len(coord_x)):\n",
        "    s_temp=[]\n",
        "    s_temp.append(\"%.1f\" %coord_x[n])\n",
        "    s_temp.append(\"%.1f\" %coord_y[n])\n",
        "    s.append(s_temp)\n",
        "\n",
        "plt.xlabel(\"Distancia X\")\n",
        "plt.ylabel(\"Distancia Y\")\n",
        "plt.title(\"Ubicación de las ciudades - TSP\")\n",
        "\n",
        "for n in range(len(coord_x)):\n",
        "    plt.annotate(str(s[n]), xy=(coord_x[n],coord_y[n] ), xytext=(coord_x[n]-4,coord_y[n]-4), \n",
        "                 color='purple')\n",
        "    \n",
        "for n in range(len(coord_x)):\n",
        "    plt.annotate(str(n), xy=(coord_x[n],coord_y[n] ), xytext=(coord_x[n]+0.5,coord_y[n]+1),\n",
        "                 color='red')\n",
        "\n",
        "plt.show()"
      ],
      "execution_count": 0,
      "outputs": [
        {
          "output_type": "display_data",
          "data": {
            "image/png": "[encoded data removed]",
            "text/plain": [
              "<Figure size 864x360 with 1 Axes>"
            ]
          },
          "metadata": {
            "tags": []
          }
        }
      ]
    },
    {
      "cell_type": "code",
      "metadata": {
        "id": "7k4_mfStP5Dv",
        "colab_type": "code",
        "colab": {}
      },
      "source": [
        "#Ahora debemos crear un link entre las las ciudades, sus coordenadas y la distancia entre ellas.\n",
        "\n",
        "#Los parentesis de llave significan que es un diccionario { }.De esta manera creamos un link\n",
        "# entre los arcos y la distancia.\n",
        "\n",
        "distancia={(i, j): np.hypot(coord_x[i] - coord_x[j], coord_y[i] - coord_y[j]) for i,j in arcos}"
      ],
      "execution_count": 0,
      "outputs": []
    },
    {
      "cell_type": "code",
      "metadata": {
        "id": "A3v2D2TjkbRz",
        "colab_type": "code",
        "outputId": "f0c350b3-2d05-48c7-f421-d2f5779be2cc",
        "colab": {
          "base_uri": "https://localhost:8080/",
          "height": 369
        }
      },
      "source": [
        "distancia"
      ],
      "execution_count": 0,
      "outputs": [
        {
          "output_type": "execute_result",
          "data": {
            "text/plain": [
              "{(0, 1): 68.37343806617604,\n",
              " (0, 2): 67.23196446784411,\n",
              " (0, 3): 51.82245164506763,\n",
              " (0, 4): 57.04045542221181,\n",
              " (1, 0): 68.37343806617604,\n",
              " (1, 2): 9.157334553872236,\n",
              " (1, 3): 102.62041964845719,\n",
              " (1, 4): 41.678142030251294,\n",
              " (2, 0): 67.23196446784411,\n",
              " (2, 1): 9.157334553872236,\n",
              " (2, 3): 97.27264529399963,\n",
              " (2, 4): 33.41497452186884,\n",
              " (3, 0): 51.82245164506763,\n",
              " (3, 1): 102.62041964845719,\n",
              " (3, 2): 97.27264529399963,\n",
              " (3, 4): 69.44651446361064,\n",
              " (4, 0): 57.04045542221181,\n",
              " (4, 1): 41.678142030251294,\n",
              " (4, 2): 33.41497452186884,\n",
              " (4, 3): 69.44651446361064}"
            ]
          },
          "metadata": {
            "tags": []
          },
          "execution_count": 72
        }
      ]
    },
    {
      "cell_type": "code",
      "metadata": {
        "id": "6A6_ssarP9nL",
        "colab_type": "code",
        "colab": {}
      },
      "source": [
        "# Creando el modelo en Cplex\n",
        "mdl=Model('TSP')"
      ],
      "execution_count": 0,
      "outputs": []
    },
    {
      "cell_type": "code",
      "metadata": {
        "id": "3u6qmZaRQAs_",
        "colab_type": "code",
        "colab": {}
      },
      "source": [
        "#Declaramos las variables a utilizar\n",
        "#los nombre y forma de llamar las variables es propia de CPLEX.\n",
        "\n",
        "x=mdl.binary_var_dict(arcos,name='x')\n",
        "d=mdl.continuous_var_dict(ciudades,name='d')"
      ],
      "execution_count": 0,
      "outputs": []
    },
    {
      "cell_type": "code",
      "metadata": {
        "id": "qaJQUNh3QHBd",
        "colab_type": "code",
        "colab": {}
      },
      "source": [
        "mdl.minimize(mdl.sum(distancia[i]*x[i] for i in arcos))"
      ],
      "execution_count": 0,
      "outputs": []
    },
    {
      "cell_type": "code",
      "metadata": {
        "id": "GCxOVq3qQMVy",
        "colab_type": "code",
        "colab": {}
      },
      "source": [
        "# Primero restricción sumatoria para todo i\n",
        "for c in ciudades:\n",
        "    mdl.add_constraint(mdl.sum(x[(i,j)] for i,j in arcos if i==c)==1, ctname='out_%d'%c)"
      ],
      "execution_count": 0,
      "outputs": []
    },
    {
      "cell_type": "code",
      "metadata": {
        "id": "M8jRsYX2QQC-",
        "colab_type": "code",
        "colab": {}
      },
      "source": [
        "# Segundo restricción sumatoria para todo j\n",
        "for c in ciudades:\n",
        "    mdl.add_constraint(mdl.sum(x[(i,j)] for i,j in arcos if j==c)==1, ctname='in_%d'%c)"
      ],
      "execution_count": 0,
      "outputs": []
    },
    {
      "cell_type": "code",
      "metadata": {
        "id": "uhw-lhF5QXAA",
        "colab_type": "code",
        "colab": {}
      },
      "source": [
        "# Por último restricción lógica\n",
        "for i,j in arcos:\n",
        "    if j!=0:\n",
        "        mdl.add_indicator(x[(i,j)],d[i]+1==d[j], name='order_(%d,_%d)'%(i, j))"
      ],
      "execution_count": 0,
      "outputs": []
    },
    {
      "cell_type": "code",
      "metadata": {
        "id": "Hq0ojLerQhhn",
        "colab_type": "code",
        "outputId": "8e690e16-50be-458f-edca-b0fdf144d742",
        "colab": {
          "base_uri": "https://localhost:8080/",
          "height": 756
        }
      },
      "source": [
        "mdl.parameters.timelimit=120\n",
        "mdl.parameters.mip.strategy.branch=1\n",
        "mdl.parameters.mip.tolerances.mipgap=0.15\n",
        "\n",
        "solucion = mdl.solve(log_output=True)"
      ],
      "execution_count": 0,
      "outputs": [
        {
          "output_type": "stream",
          "text": [
            "CPXPARAM_Read_DataCheck                          1\n",
            "CPXPARAM_MIP_Strategy_Branch                     1\n",
            "CPXPARAM_TimeLimit                               120\n",
            "CPXPARAM_MIP_Tolerances_MIPGap                   0.14999999999999999\n",
            "Tried aggregator 2 times.\n",
            "MIP Presolve modified 6 coefficients.\n",
            "Aggregator did 6 substitutions.\n",
            "Reduced MIP has 20 rows, 35 columns, and 70 nonzeros.\n",
            "Reduced MIP has 20 binaries, 0 generals, 0 SOSs, and 16 indicators.\n",
            "Presolve time = 0.00 sec. (0.06 ticks)\n",
            "Found incumbent of value 341.087311 after 0.01 sec. (0.18 ticks)\n",
            "Probing time = 0.00 sec. (0.02 ticks)\n",
            "Tried aggregator 1 time.\n",
            "Reduced MIP has 20 rows, 35 columns, and 70 nonzeros.\n",
            "Reduced MIP has 20 binaries, 0 generals, 0 SOSs, and 16 indicators.\n",
            "Presolve time = 0.00 sec. (0.05 ticks)\n",
            "Probing time = 0.00 sec. (0.02 ticks)\n",
            "Clique table members: 16.\n",
            "MIP emphasis: balance optimality and feasibility.\n",
            "MIP search method: dynamic search.\n",
            "Parallel mode: deterministic, using up to 2 threads.\n",
            "Root relaxation solution time = 0.00 sec. (0.03 ticks)\n",
            "\n",
            "        Nodes                                         Cuts/\n",
            "   Node  Left     Objective  IInf  Best Integer    Best Bound    ItCnt     Gap\n",
            "\n",
            "*     0+    0                          341.0873        0.0000           100.00%\n",
            "      0     0      187.8954     4      341.0873      187.8954        3   44.91%\n",
            "      0     0      187.8954     4      341.0873   Impl Bds: 1        4   44.91%\n",
            "      0     0      187.8954     3      341.0873   Impl Bds: 1        5   44.91%\n",
            "*     0+    0                          232.2147      187.8954            19.09%\n",
            "\n",
            "Implied bound cuts applied:  2\n",
            "\n",
            "Root node processing (before b&c):\n",
            "  Real time             =    0.07 sec. (0.80 ticks)\n",
            "Parallel b&c, 2 threads:\n",
            "  Real time             =    0.00 sec. (0.00 ticks)\n",
            "  Sync time (average)   =    0.00 sec.\n",
            "  Wait time (average)   =    0.00 sec.\n",
            "                          ------------\n",
            "Total (root+branch&cut) =    0.07 sec. (0.80 ticks)\n"
          ],
          "name": "stdout"
        }
      ]
    },
    {
      "cell_type": "code",
      "metadata": {
        "id": "grrPBkQkQn2V",
        "colab_type": "code",
        "outputId": "cd524635-fc85-4c8a-8a5f-238f69ec5798",
        "colab": {
          "base_uri": "https://localhost:8080/",
          "height": 34
        }
      },
      "source": [
        "mdl.get_solve_status()"
      ],
      "execution_count": 0,
      "outputs": [
        {
          "output_type": "execute_result",
          "data": {
            "text/plain": [
              "<JobSolveStatus.OPTIMAL_SOLUTION: 2>"
            ]
          },
          "metadata": {
            "tags": []
          },
          "execution_count": 80
        }
      ]
    },
    {
      "cell_type": "code",
      "metadata": {
        "id": "4IZWUbSLQv3X",
        "colab_type": "code",
        "outputId": "46a7d759-d54f-40ac-b4d3-e7a0a3a90f4b",
        "colab": {
          "base_uri": "https://localhost:8080/",
          "height": 210
        }
      },
      "source": [
        "solucion.display()"
      ],
      "execution_count": 0,
      "outputs": [
        {
          "output_type": "stream",
          "text": [
            "solution for: TSP\n",
            "objective: 232.215\n",
            "x_0_3 = 1\n",
            "x_1_0 = 1\n",
            "x_2_1 = 1\n",
            "x_3_4 = 1\n",
            "x_4_2 = 1\n",
            "d_1 = 4.000\n",
            "d_2 = 3.000\n",
            "d_3 = 1.000\n",
            "d_4 = 2.000\n"
          ],
          "name": "stdout"
        }
      ]
    },
    {
      "cell_type": "code",
      "metadata": {
        "id": "4cpb3UKWQzGH",
        "colab_type": "code",
        "outputId": "5829cacd-2796-4491-a8b8-738fc25cec0f",
        "colab": {
          "base_uri": "https://localhost:8080/",
          "height": 350
        }
      },
      "source": [
        "#Imprimiento la solución óptima.\n",
        "\n",
        "plt.figure(figsize=(12,5))\n",
        "plt.xlabel(\"Distancia X\")\n",
        "plt.ylabel(\"Distancia Y\")\n",
        "plt.title(\"Ubicación de las ciudades - TSP\")\n",
        "\n",
        "\n",
        "arcos_activos = [i for i in arcos if x[i].solution_value > 0.9]\n",
        "for i,j in arcos_activos:\n",
        "    plt.plot([coord_x[i],coord_x[j]],[coord_y[i],coord_y[j]],\n",
        "              color='b', alpha=0.4, zorder=0)\n",
        "plt.scatter(x=coord_x, y=coord_y, color='blue', zorder=1)\n",
        "    \n",
        "for n in range(len(coord_x)):\n",
        "    plt.annotate(str(s[n]), xy=(coord_x[n],coord_y[n] ), \n",
        "                 xytext=(coord_x[n]-4,coord_y[n]-4), color='purple')\n",
        "    \n",
        "for n in range(len(coord_x)):\n",
        "    plt.annotate(str(n), xy=(coord_x[n],coord_y[n] ), \n",
        "                 xytext=(coord_x[n]+0.5,coord_y[n]+1),color='red')\n",
        "    \n",
        "plt.xlim((0,100))\n",
        "plt.ylim((0,100))\n",
        "plt.show()"
      ],
      "execution_count": 0,
      "outputs": [
        {
          "output_type": "display_data",
          "data": {
            "image/png": "[encoded data removed]",
            "text/plain": [
              "<Figure size 864x360 with 1 Axes>"
            ]
          },
          "metadata": {
            "tags": []
          }
        }
      ]
    }
  ]
}