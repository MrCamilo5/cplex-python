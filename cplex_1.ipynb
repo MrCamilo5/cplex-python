{
  "nbformat": 4,
  "nbformat_minor": 0,
  "metadata": {
    "colab": {
      "name": "cplex_1.ipynb",
      "provenance": [],
      "include_colab_link": true
    },
    "kernelspec": {
      "name": "python3",
      "display_name": "Python 3"
    }
  },
  "cells": [
    {
      "cell_type": "markdown",
      "metadata": {
        "id": "view-in-github",
        "colab_type": "text"
      },
      "source": [
        "<a href=\"https://colab.research.google.com/github/MrCamilo5/cplex-python/blob/master/cplex_1.ipynb\" target=\"_parent\"><img src=\"https://colab.research.google.com/assets/colab-badge.svg\" alt=\"Open In Colab\"/></a>"
      ]
    },
    {
      "cell_type": "code",
      "metadata": {
        "id": "tqmacno2rmmU",
        "colab_type": "code",
        "colab": {}
      },
      "source": [
        "!pip install cplex"
      ],
      "execution_count": 0,
      "outputs": []
    },
    {
      "cell_type": "code",
      "metadata": {
        "id": "b6BxkNxXtEud",
        "colab_type": "code",
        "colab": {}
      },
      "source": [
        "!pip install docplex "
      ],
      "execution_count": 0,
      "outputs": []
    },
    {
      "cell_type": "code",
      "metadata": {
        "id": "K_ZELvLNtK4G",
        "colab_type": "code",
        "colab": {}
      },
      "source": [
        "from docplex.mp.model import Model\n",
        "\n",
        "myInput =[[8, 0, 0, 0, 0, 0, 0, 0, 0],\n",
        " [0, 0, 3, 6, 0, 0, 0, 0, 0],\n",
        " [0, 7, 0, 0, 9, 0, 2, 0, 0],\n",
        " [0, 5, 0, 0, 0, 7, 0, 0, 0],\n",
        " [0, 0, 0, 0, 4, 5, 7, 0, 0],\n",
        " [0, 0, 0, 1, 0, 0, 0, 3, 0],\n",
        " [0, 0, 1, 0, 0, 0, 0, 6, 8],\n",
        " [0, 0, 8, 5, 0, 0, 0, 1, 0],\n",
        " [0, 9, 0, 0, 0, 0, 4, 0, 0]]\n",
        "\n",
        "model = Model(\"sudoku\")\n",
        "R = range(1, 10)\n",
        "idx = [(i, j, k) for i in R for j in R for k in R]\n",
        "\n",
        "x = model.binary_var_dict(idx)\n",
        "\n",
        "for i in R:\n",
        "    for j in R:\n",
        "        if myInput[i - 1][j - 1] != 0:\n",
        "            model.add_constraint(x[i, j, myInput[i - 1][j - 1]] == 1)\n",
        "\n",
        "for i in R:\n",
        "    for j in R:\n",
        "        model.add_constraint(model.sum(x[i, j, k] for k in R) == 1)\n",
        "for j in R:\n",
        "    for k in R:\n",
        "        model.add_constraint(model.sum(x[i, j, k] for i in R) == 1)\n",
        "for i in R:\n",
        "    for k in R:\n",
        "        model.add_constraint(model.sum(x[i, j, k] for j in R) == 1)\n",
        "\n",
        "solution = model.solve()\n",
        "solution.display()"
      ],
      "execution_count": 0,
      "outputs": []
    },
    {
      "cell_type": "code",
      "metadata": {
        "id": "Mzn5mO5ztwkW",
        "colab_type": "code",
        "colab": {}
      },
      "source": [
        "from docplex.mp.model import Model\n",
        "m=Model(name='LP')\n",
        "x=m.continuous_var()\n",
        "y=m.continuous_var()\n",
        "c1=m.add_constraint(x+y<=3)\n",
        "c2=m.add_constraint(x+2*y<=4)\n",
        "m.maximize(3*x+2*y)\n"
      ],
      "execution_count": 0,
      "outputs": []
    },
    {
      "cell_type": "code",
      "metadata": {
        "id": "AfpWrgmwwZcq",
        "colab_type": "code",
        "outputId": "5302cdab-12d4-49cf-d7cb-ea0cd20f8545",
        "colab": {
          "base_uri": "https://localhost:8080/",
          "height": 140
        }
      },
      "source": [
        "m.print_information()"
      ],
      "execution_count": 0,
      "outputs": [
        {
          "output_type": "stream",
          "text": [
            "Model: LP\n",
            " - number of variables: 2\n",
            "   - binary=0, integer=0, continuous=2\n",
            " - number of constraints: 2\n",
            "   - linear=2\n",
            " - parameters: defaults\n",
            " - problem type is: LP\n"
          ],
          "name": "stdout"
        }
      ]
    },
    {
      "cell_type": "code",
      "metadata": {
        "id": "eNmkSUstwbEI",
        "colab_type": "code",
        "outputId": "bb43b125-c0b0-40fe-8148-07c90e308d12",
        "colab": {
          "base_uri": "https://localhost:8080/",
          "height": 70
        }
      },
      "source": [
        "s=m.solve()\n",
        "s.display()"
      ],
      "execution_count": 0,
      "outputs": [
        {
          "output_type": "stream",
          "text": [
            "solution for: LP\n",
            "objective: 9.000\n",
            "x1 = 3.000\n"
          ],
          "name": "stdout"
        }
      ]
    },
    {
      "cell_type": "code",
      "metadata": {
        "id": "7rWt0hngxAmv",
        "colab_type": "code",
        "outputId": "0d0ff777-e812-47fb-b21d-ff53bf34fa18",
        "colab": {
          "base_uri": "https://localhost:8080/",
          "height": 87
        }
      },
      "source": [
        "from docplex.mp.model import Model\n",
        "M=Model(name='LP2')\n",
        "x=M.continuous_var()\n",
        "y=M.continuous_var()\n",
        "z=M.continuous_var()\n",
        "M.add_constraint(3*x+y+z<=60)\n",
        "M.add_constraint(x-y+2*z<=10)\n",
        "M.add_constraint(x+y-z<=20)\n",
        "M.maximize(2*x-y+z)\n",
        "S=M.solve()\n",
        "S.display()"
      ],
      "execution_count": 0,
      "outputs": [
        {
          "output_type": "stream",
          "text": [
            "solution for: LP2\n",
            "objective: 25.000\n",
            "x1 = 15.000\n",
            "x2 = 5.000\n"
          ],
          "name": "stdout"
        }
      ]
    },
    {
      "cell_type": "code",
      "metadata": {
        "id": "kbtKD-nKWdTq",
        "colab_type": "code",
        "outputId": "327ac616-1c4f-4c1d-e65d-1b5948fd1ebd",
        "colab": {
          "base_uri": "https://localhost:8080/",
          "height": 404
        }
      },
      "source": [
        "from docplex.mp.model import  Model\n",
        "fo=[[280.0,220.0,258.0],[250.0,  110.0,  255.0],[220.0, -130.0,  300.0]]\n",
        "P1=[[0.4, 0.5, 0.1],[0.1, 0.7, 0.2],[0.1, 0.2, 0.7]]\n",
        "P2=[[0.7, 0.2, 0.1],[0.3, 0.6, 0.1],[0.1, 0.7, 0.2]]\n",
        "P3=[[0.2, 0.5, 0.3],[0., 0.7, 0.3,],[0., 0.2, 0.8]]\n",
        "pe=Model(name='Programacion Estocastica')\n",
        "ind=[(i,j) for i in range(3) for j in range(3)]\n",
        "y=pe.binary_var_dict(ind)\n",
        "\n",
        "\n",
        "pe.maximize(pe.sum(fo[i][j]*y[i,j] *(-1.) for i in range(3) for j in range(3)))\n",
        "\n",
        "for i in range(3):\n",
        "  pe.add_constraint(pe.sum(y[i,j] for j in range(3))==1)\n",
        "\n",
        "for i in range(3):\n",
        "  pe.add_constraint(pe.sum(y[i,j] for j in range(3))==pe.sum(P1[j][i]*y[j,0] for j in range(3))+pe.sum(P2[j][i]*y[j,1] for j in range(3))+pe.sum(P3[j][i]*y[j,2] for j in range(3)))\n",
        "\n",
        "Sol=pe.solve(log_output=True)\n",
        "\n",
        "Sol.display()"
      ],
      "execution_count": 0,
      "outputs": [
        {
          "output_type": "stream",
          "text": [
            "Version identifier: 12.10.0.0 | 2019-11-27 | 843d4de\n",
            "CPXPARAM_Read_DataCheck                          1\n",
            "CPXPARAM_RandomSeed                              201903125\n",
            "Tried aggregator 1 time.\n",
            "MIP Presolve eliminated 6 rows and 9 columns.\n",
            "MIP Presolve modified 9 coefficients.\n",
            "All rows and columns eliminated.\n",
            "Presolve time = 0.01 sec. (0.01 ticks)\n",
            "\n",
            "Root node processing (before b&c):\n",
            "  Real time             =    0.01 sec. (0.02 ticks)\n",
            "Parallel b&c, 2 threads:\n",
            "  Real time             =    0.00 sec. (0.00 ticks)\n",
            "  Sync time (average)   =    0.00 sec.\n",
            "  Wait time (average)   =    0.00 sec.\n",
            "                          ------------\n",
            "Total (root+branch&cut) =    0.01 sec. (0.02 ticks)\n",
            "solution for: Programacion Estocastica\n",
            "objective: -630.000\n",
            "x2 = 1\n",
            "x5 = 1\n",
            "x9 = 1\n"
          ],
          "name": "stdout"
        }
      ]
    },
    {
      "cell_type": "code",
      "metadata": {
        "id": "j4SiXFxscVnX",
        "colab_type": "code",
        "outputId": "2088cf68-a99f-4998-b207-00abf54748d1",
        "colab": {
          "base_uri": "https://localhost:8080/",
          "height": 308
        }
      },
      "source": [
        "from knitro import *"
      ],
      "execution_count": 0,
      "outputs": [
        {
          "output_type": "error",
          "ename": "ModuleNotFoundError",
          "evalue": "ignored",
          "traceback": [
            "\u001b[0;31m---------------------------------------------------------------------------\u001b[0m",
            "\u001b[0;31mModuleNotFoundError\u001b[0m                       Traceback (most recent call last)",
            "\u001b[0;32m<ipython-input-1-8ebc9f370672>\u001b[0m in \u001b[0;36m<module>\u001b[0;34m()\u001b[0m\n\u001b[0;32m----> 1\u001b[0;31m \u001b[0;32mfrom\u001b[0m \u001b[0mknitro\u001b[0m \u001b[0;32mimport\u001b[0m \u001b[0;34m*\u001b[0m\u001b[0;34m\u001b[0m\u001b[0;34m\u001b[0m\u001b[0m\n\u001b[0m",
            "\u001b[0;31mModuleNotFoundError\u001b[0m: No module named 'knitro'",
            "",
            "\u001b[0;31m---------------------------------------------------------------------------\u001b[0;32m\nNOTE: If your import is failing due to a missing package, you can\nmanually install dependencies using either !pip or !apt.\n\nTo view examples of installing some common dependencies, click the\n\"Open Examples\" button below.\n\u001b[0;31m---------------------------------------------------------------------------\u001b[0m\n"
          ]
        }
      ]
    }
  ]
}